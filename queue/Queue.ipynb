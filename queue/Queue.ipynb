{
 "cells": [
  {
   "cell_type": "code",
   "execution_count": 52,
   "metadata": {},
   "outputs": [],
   "source": [
    "class LinkedNode(object):\n",
    "    \n",
    "    def __init__(self, value, next_node=None):\n",
    "        self.value = value\n",
    "        self.next_node = next_node\n",
    "        self.prev_node = None\n",
    "        if isinstance(next_node, LinkedNode):\n",
    "            next_node.prev_node = self\n",
    "            \n",
    "    def __str__(self):\n",
    "        prev_val = None\n",
    "        next_val = None\n",
    "        if isinstance(self.prev_node, LinkedNode):\n",
    "            prev_val = self.prev_node.value\n",
    "        if isinstance(self.next_node, LinkedNode):\n",
    "            next_val = self.next_node.value\n",
    "            \n",
    "        return '{}->{}->{}'.format(prev_val, self.value, next_val)"
   ]
  },
  {
   "cell_type": "code",
   "execution_count": 84,
   "metadata": {},
   "outputs": [],
   "source": [
    "class Queue(object):\n",
    "    \n",
    "    def __init__(self, head_val=None):\n",
    "        if not head_val is None:\n",
    "            self.head = LinkedNode(head_val)\n",
    "\n",
    "        self.head = None\n",
    "        self.tail = self.head\n",
    "        \n",
    "    def enqueue(self, value):\n",
    "        if value is None:\n",
    "            raise ValueError('Value cannot be None')\n",
    "            \n",
    "        if self.head is None:\n",
    "            self.head = LinkedNode(value)\n",
    "            self.tail = self.head\n",
    "        else:\n",
    "            self.head = LinkedNode(value, self.head)\n",
    "        \n",
    "        return True\n",
    "    \n",
    "    def dequeue(self):\n",
    "        val = None\n",
    "        if isinstance(self.tail, LinkedNode):\n",
    "            if self.tail == self.head:\n",
    "                self.head = None\n",
    "            val = self.tail.value\n",
    "            self.tail = self.tail.prev_node\n",
    "            if isinstance(self.tail, LinkedNode):\n",
    "                self.tail.next_node = None\n",
    "\n",
    "        return val\n",
    "    \n",
    "    def peak(self):\n",
    "        if isinstance(self.tail, LinkedNode):\n",
    "            return self.tail.value\n",
    "        return None\n",
    "    \n",
    "    def __str__(self):\n",
    "        s = ''\n",
    "        cur_node = self.tail\n",
    "        while isinstance(cur_node, LinkedNode):\n",
    "            s = '{}->{}'.format(cur_node.value, s)\n",
    "            cur_node = cur_node.prev_node\n",
    "        return s\n",
    "        "
   ]
  },
  {
   "cell_type": "code",
   "execution_count": 85,
   "metadata": {},
   "outputs": [
    {
     "name": "stdout",
     "output_type": "stream",
     "text": [
      "Queue: 2->1->\n",
      "Dequeue: 1\n",
      "Queue: 2->\n",
      "Dequeue: 2\n",
      "Queue: \n",
      "Dequeue: None\n",
      "Queue: \n",
      "Queue: ABC->\n"
     ]
    }
   ],
   "source": [
    "q = Queue()\n",
    "q.enqueue(1)\n",
    "q.enqueue(2)\n",
    "print('Queue: {}'.format(q))\n",
    "print('Dequeue: {}'.format(q.dequeue()))\n",
    "print('Queue: {}'.format(q))\n",
    "print('Dequeue: {}'.format(q.dequeue()))\n",
    "print('Queue: {}'.format(q))\n",
    "print('Dequeue: {}'.format(q.dequeue()))\n",
    "print('Queue: {}'.format(q))\n",
    "q.enqueue('ABC')\n",
    "print('Queue: {}'.format(q))"
   ]
  },
  {
   "cell_type": "code",
   "execution_count": null,
   "metadata": {
    "collapsed": true
   },
   "outputs": [],
   "source": []
  }
 ],
 "metadata": {
  "kernelspec": {
   "display_name": "Python 3",
   "language": "python",
   "name": "python3"
  },
  "language_info": {
   "codemirror_mode": {
    "name": "ipython",
    "version": 3
   },
   "file_extension": ".py",
   "mimetype": "text/x-python",
   "name": "python",
   "nbconvert_exporter": "python",
   "pygments_lexer": "ipython3",
   "version": "3.6.3"
  }
 },
 "nbformat": 4,
 "nbformat_minor": 2
}
