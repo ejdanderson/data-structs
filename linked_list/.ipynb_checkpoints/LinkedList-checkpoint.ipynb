{
 "cells": [
  {
   "cell_type": "code",
   "execution_count": 46,
   "metadata": {},
   "outputs": [],
   "source": [
    "class SinglyLinkedNode(object):\n",
    "    \"\"\"Node class which stores a value and a link to another node\"\"\"\n",
    "    \n",
    "    str_combiner = '->'\n",
    "    \n",
    "    def __init__(self, value, next_node=None):\n",
    "        self.value = value\n",
    "        self.next_node = next_node\n",
    "    \n",
    "    @property\n",
    "    def next_node(self):\n",
    "        return self._next_node\n",
    "    \n",
    "    @next_node.setter\n",
    "    def next_node(self, node):\n",
    "        if not (node is None or isinstance(node, __class__)):\n",
    "            raise TypeError('Type must be of {}'.format(self.__class__))\n",
    "        self._next_node = node\n",
    "        \n",
    "    def str_node_type(self):\n",
    "        return '->'\n",
    "    \n",
    "    def __str__(self):\n",
    "        return '{}->{}'.format(self.value)\n",
    "\n",
    "class LinkedList(object):\n",
    "    def __init__(self, head=None):\n",
    "        if not head is None:\n",
    "            # TODO: Abstract the node type out\n",
    "            self.head = SinglyLinkedNode(head, None)\n",
    "        else:\n",
    "            self.head = None\n",
    "            \n",
    "    def append(self, item):\n",
    "        # TODO: Abstract the node type out\n",
    "        node = SinglyLinkedNode(item, self.head)\n",
    "        self.head = node\n",
    "            \n",
    "    def delete(self, item):\n",
    "        if self.head is None:\n",
    "            return False\n",
    "        \n",
    "        if item == self.head.value:\n",
    "            self.head = self.head.next_node\n",
    "            return True\n",
    "        \n",
    "        prev_node = self.head\n",
    "        cur_node = prev_node.next_node\n",
    "\n",
    "        while cur_node:\n",
    "            if item == cur_node.value:\n",
    "                prev_node.next_node = cur_node.next_node\n",
    "                return True\n",
    "                 \n",
    "            prev_node = cur_node\n",
    "            cur_node = cur_node.next_node\n",
    "        \n",
    "        return False\n",
    "    \n",
    "    def search(self, item):\n",
    "        if self.head is None:\n",
    "            return False\n",
    "    \n",
    "        cur_node = self.head\n",
    "\n",
    "        while cur_node:\n",
    "            if item == cur_node.value:\n",
    "                return True\n",
    "            cur_node = cur_node.next_node\n",
    "        \n",
    "        return False\n",
    "        \n",
    "        \n",
    "    def __str__(self):\n",
    "        cur_node = self.head\n",
    "        string = ''\n",
    "        while cur_node:\n",
    "            if not cur_node is None:\n",
    "                # TODO use abstracted node type\n",
    "                string += '{}{}'.format(cur_node.value, SinglyLinkedNode.str_combiner)\n",
    "            cur_node = cur_node.next_node\n",
    "        return string"
   ]
  },
  {
   "cell_type": "code",
   "execution_count": 54,
   "metadata": {},
   "outputs": [
    {
     "name": "stdout",
     "output_type": "stream",
     "text": [
      "4->3->2->\n",
      "True\n"
     ]
    }
   ],
   "source": [
    "ll = LinkedList()\n",
    "ll.delete(1)\n",
    "ll.append(1)\n",
    "ll.delete(1)\n",
    "ll.append(2)\n",
    "ll.append(3)\n",
    "ll.append(4)\n",
    "print(ll)\n",
    "print(ll.search(4))"
   ]
  },
  {
   "cell_type": "code",
   "execution_count": null,
   "metadata": {
    "collapsed": true
   },
   "outputs": [],
   "source": []
  }
 ],
 "metadata": {
  "kernelspec": {
   "display_name": "Python 3",
   "language": "python",
   "name": "python3"
  },
  "language_info": {
   "codemirror_mode": {
    "name": "ipython",
    "version": 3
   },
   "file_extension": ".py",
   "mimetype": "text/x-python",
   "name": "python",
   "nbconvert_exporter": "python",
   "pygments_lexer": "ipython3",
   "version": "3.6.3"
  }
 },
 "nbformat": 4,
 "nbformat_minor": 2
}
