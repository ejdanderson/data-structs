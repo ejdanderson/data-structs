{
 "cells": [
  {
   "cell_type": "code",
   "execution_count": 3,
   "metadata": {
    "collapsed": true
   },
   "outputs": [],
   "source": [
    "class LinkedNode(object):\n",
    "    def __init__(self, value, next_node=None):\n",
    "        self.value = value\n",
    "        self.next_node = None\n",
    "        if isinstance(next_node, LinkedNode):\n",
    "            self.next_node = next_node        "
   ]
  },
  {
   "cell_type": "code",
   "execution_count": 28,
   "metadata": {},
   "outputs": [],
   "source": [
    "class Stack(object):\n",
    "    \n",
    "    node_type = LinkedNode\n",
    "    \n",
    "    def __init__(self, head_val=None):\n",
    "        if not head_val is None:\n",
    "            self.push(head_val, None)\n",
    "        else:\n",
    "            self.head = None\n",
    "            \n",
    "    @property\n",
    "    def head(self):\n",
    "        if self._head is None or isinstance(self._head, self.node_type):\n",
    "            return self._head\n",
    "        else:\n",
    "            raise TypeError('Stack head must be None or {}'.format(self.node_type))\n",
    "        \n",
    "    @head.setter\n",
    "    def head(self, value):\n",
    "        if value is None or isinstance(value, self.node_type):\n",
    "            self._head = value\n",
    "        else:\n",
    "            raise TypeError('Stack head must be None or {}'.format(self.node_type))\n",
    "            \n",
    "    def push(self, value):\n",
    "        if value is None:\n",
    "            raise TypeError('Value cannot be None')\n",
    "            \n",
    "        node = self.node_type(value, self.head)\n",
    "        self.head = node\n",
    "        \n",
    "        return True\n",
    "        \n",
    "    def pop(self):\n",
    "        if self.head is None:\n",
    "            return None\n",
    "\n",
    "        value = self.head.value\n",
    "        self.head = self.head.next_node\n",
    "        return value\n",
    "    \n",
    "    def peak(self):\n",
    "        if self.head is None:\n",
    "            return None\n",
    "        else:\n",
    "            return self.head.value\n",
    "        \n",
    "    def __str__(self):\n",
    "        cur_node = self.head\n",
    "        string = ''\n",
    "        while cur_node:\n",
    "            if not cur_node is None:\n",
    "                string += '{}{}'.format(cur_node.value, self.node_type)\n",
    "            cur_node = cur_node.next_node\n",
    "        return string\n",
    "        "
   ]
  },
  {
   "cell_type": "code",
   "execution_count": 31,
   "metadata": {},
   "outputs": [
    {
     "name": "stdout",
     "output_type": "stream",
     "text": [
      "3\n",
      "3\n",
      "2\n",
      "1\n",
      "None\n",
      "None\n",
      "2\n"
     ]
    }
   ],
   "source": [
    "s = Stack()\n",
    "s.push(1)\n",
    "s.push(2)\n",
    "s.push(3)\n",
    "print(s.peak())\n",
    "print(s.pop())\n",
    "print(s.pop())\n",
    "print(s.pop())\n",
    "print(s.pop())\n",
    "print(s.pop())\n",
    "s.push(2)\n",
    "print(s.pop())"
   ]
  },
  {
   "cell_type": "code",
   "execution_count": null,
   "metadata": {
    "collapsed": true
   },
   "outputs": [],
   "source": []
  }
 ],
 "metadata": {
  "kernelspec": {
   "display_name": "Python 3",
   "language": "python",
   "name": "python3"
  },
  "language_info": {
   "codemirror_mode": {
    "name": "ipython",
    "version": 3
   },
   "file_extension": ".py",
   "mimetype": "text/x-python",
   "name": "python",
   "nbconvert_exporter": "python",
   "pygments_lexer": "ipython3",
   "version": "3.6.3"
  }
 },
 "nbformat": 4,
 "nbformat_minor": 2
}
